{
 "cells": [
  {
   "cell_type": "code",
   "execution_count": 10,
   "metadata": {},
   "outputs": [
    {
     "name": "stdout",
     "output_type": "stream",
     "text": [
      "was born in a leap year!\n"
     ]
    }
   ],
   "source": [
    "#This is task 2 leap year\n",
    "\n",
    "year=int(input(\"What year you were born ?\"))\n",
    "\n",
    "if year%4==0:\n",
    "    print(\"was born in a leap year!\")\n",
    "else:\n",
    "    print('Not leap year.')\n"
   ]
  },
  {
   "cell_type": "code",
   "execution_count": null,
   "metadata": {},
   "outputs": [],
   "source": []
  },
  {
   "cell_type": "code",
   "execution_count": 58,
   "metadata": {},
   "outputs": [
    {
     "name": "stdout",
     "output_type": "stream",
     "text": [
      "Welcome at swimming Pool!\n",
      "Price is 5\n"
     ]
    }
   ],
   "source": [
    "print(\"Welcome at swimming Pool!\")\n",
    "\n",
    "age=int(input(\"How old are you ?\"))\n",
    "\n",
    "price=5\n",
    "\n",
    "\n",
    "if age >=18 and age<65:\n",
    "    swim_card=input(\"do you got swim card? Y for yes, N for no?\")\n",
    "    if swim_card=='Y':\n",
    "        price=price*0.5\n",
    "        print(f\"Your ticket price is {price}\")\n",
    "    else:\n",
    "        print(f\"Price is {price}\")\n",
    "else:\n",
    "    print(\"Free entry!\")\n",
    "\n",
    "\n",
    "\n"
   ]
  },
  {
   "cell_type": "code",
   "execution_count": 61,
   "metadata": {},
   "outputs": [],
   "source": [
    "numb1=int(input(\"please input an integer number aka whole  number \"))\n",
    "numb2=int(input(\"please input an integer number aka whole  number \"))\n",
    "\n",
    "if numb1>numb2:\n",
    "    print(\"Frist number is greater than a Second one !\")"
   ]
  }
 ],
 "metadata": {
  "kernelspec": {
   "display_name": "Python 3",
   "language": "python",
   "name": "python3"
  },
  "language_info": {
   "codemirror_mode": {
    "name": "ipython",
    "version": 3
   },
   "file_extension": ".py",
   "mimetype": "text/x-python",
   "name": "python",
   "nbconvert_exporter": "python",
   "pygments_lexer": "ipython3",
   "version": "3.11.1"
  },
  "orig_nbformat": 4,
  "vscode": {
   "interpreter": {
    "hash": "6b1f0ee7f03cc37173128c30aee4f80f74e70c4ce73170b026d69128c241c733"
   }
  }
 },
 "nbformat": 4,
 "nbformat_minor": 2
}
