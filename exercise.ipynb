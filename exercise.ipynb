{
 "cells": [
  {
   "cell_type": "code",
   "execution_count": 10,
   "metadata": {},
   "outputs": [
    {
     "name": "stdout",
     "output_type": "stream",
     "text": [
      "was born in a leap year!\n"
     ]
    }
   ],
   "source": [
    "#This is task 2 leap year\n",
    "\n",
    "year=int(input(\"What year you were born ?\"))\n",
    "\n",
    "if year%4==0:\n",
    "    print(\"was born in a leap year!\")\n",
    "else:\n",
    "    print('Not leap year.')\n"
   ]
  },
  {
   "cell_type": "code",
   "execution_count": 62,
   "metadata": {},
   "outputs": [
    {
     "name": "stdout",
     "output_type": "stream",
     "text": [
      "Welcome at swimming Pool!\n",
      "Free entry!\n"
     ]
    }
   ],
   "source": [
    "#Swimming Pool task\n",
    "\n",
    "print(\"Welcome at swimming Pool!\")\n",
    "\n",
    "age=int(input(\"How old are you ?\"))\n",
    "\n",
    "price=5\n",
    "\n",
    "\n",
    "if age >=18 and age<65:\n",
    "    swim_card=input(\"do you got swim card? Y for yes, N for no?\")\n",
    "    if swim_card=='Y':\n",
    "        price=price*0.5\n",
    "        print(f\"Your ticket price is {price}\")\n",
    "    else:\n",
    "        print(f\"Price is {price}\")\n",
    "else:\n",
    "    print(\"Free entry!\")\n",
    "\n",
    "\n",
    "\n"
   ]
  },
  {
   "cell_type": "code",
   "execution_count": 65,
   "metadata": {},
   "outputs": [
    {
     "name": "stdout",
     "output_type": "stream",
     "text": [
      "Frist number is greater than a Second one !\n"
     ]
    }
   ],
   "source": [
    "#number >number2 only true statement\n",
    "\n",
    "numb1=int(input(\"please input an integer number aka whole  number \"))\n",
    "numb2=int(input(\"please input an integer number aka whole  number \"))\n",
    "\n",
    "if numb1>numb2:\n",
    "    print(\"Frist number is greater than a Second one !\")"
   ]
  },
  {
   "cell_type": "code",
   "execution_count": 2,
   "metadata": {},
   "outputs": [],
   "source": [
    "# while loop\n",
    "\n",
    "user_number=''\n",
    "total=0\n",
    "\n",
    "while user_number!=0:\n",
    "    user_number=int(input(\"add numbers as many as You want:\"))\n",
    "    total+=user_number\n",
    "\n",
    "print(f\"your score is {total}\")\n"
   ]
  }
 ],
 "metadata": {
  "kernelspec": {
   "display_name": "Python 3",
   "language": "python",
   "name": "python3"
  },
  "language_info": {
   "codemirror_mode": {
    "name": "ipython",
    "version": 3
   },
   "file_extension": ".py",
   "mimetype": "text/x-python",
   "name": "python",
   "nbconvert_exporter": "python",
   "pygments_lexer": "ipython3",
   "version": "3.11.1"
  },
  "orig_nbformat": 4,
  "vscode": {
   "interpreter": {
    "hash": "6b1f0ee7f03cc37173128c30aee4f80f74e70c4ce73170b026d69128c241c733"
   }
  }
 },
 "nbformat": 4,
 "nbformat_minor": 2
}
