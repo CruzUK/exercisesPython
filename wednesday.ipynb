{
 "cells": [
  {
   "cell_type": "code",
   "execution_count": 6,
   "metadata": {},
   "outputs": [
    {
     "name": "stdout",
     "output_type": "stream",
     "text": [
      "['i', 'd', 'l', 'e']\n",
      "['i', 'd']\n",
      "['i', 'n']\n",
      "['s', 'i', 'n']\n",
      "['s', 'i', 'n', 'g']\n"
     ]
    }
   ],
   "source": [
    "my_list=[\"i\", \"d\", \"l\", \"e\"]\n",
    "\n",
    "print(my_list)\n",
    "\n",
    "del my_list[2:4]\n",
    "\n",
    "print(my_list)\n",
    "\n",
    "my_list[1]='n'\n",
    "\n",
    "print(my_list)\n",
    "\n",
    "new_list=[\"s\"] + my_list\n",
    "\n",
    "print(new_list)\n",
    "\n",
    "new_list.append(\"g\")\n",
    "\n",
    "print(new_list)"
   ]
  },
  {
   "cell_type": "code",
   "execution_count": 16,
   "metadata": {},
   "outputs": [
    {
     "data": {
      "text/plain": [
       "array([1, 2, 3, 4, 5])"
      ]
     },
     "execution_count": 16,
     "metadata": {},
     "output_type": "execute_result"
    }
   ],
   "source": [
    "import numpy as np\n",
    "\n",
    "a=np.array([1,2,3,4,5])\n",
    "\n"
   ]
  }
 ],
 "metadata": {
  "kernelspec": {
   "display_name": "Python 3",
   "language": "python",
   "name": "python3"
  },
  "language_info": {
   "codemirror_mode": {
    "name": "ipython",
    "version": 3
   },
   "file_extension": ".py",
   "mimetype": "text/x-python",
   "name": "python",
   "nbconvert_exporter": "python",
   "pygments_lexer": "ipython3",
   "version": "3.11.1"
  },
  "orig_nbformat": 4,
  "vscode": {
   "interpreter": {
    "hash": "6b1f0ee7f03cc37173128c30aee4f80f74e70c4ce73170b026d69128c241c733"
   }
  }
 },
 "nbformat": 4,
 "nbformat_minor": 2
}
