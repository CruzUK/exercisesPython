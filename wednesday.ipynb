{
 "cells": [
  {
   "cell_type": "code",
   "execution_count": 6,
   "metadata": {},
   "outputs": [
    {
     "name": "stdout",
     "output_type": "stream",
     "text": [
      "['i', 'd', 'l', 'e']\n",
      "['i', 'd']\n",
      "['i', 'n']\n",
      "['s', 'i', 'n']\n",
      "['s', 'i', 'n', 'g']\n"
     ]
    }
   ],
   "source": [
    "my_list=[\"i\", \"d\", \"l\", \"e\"]\n",
    "\n",
    "print(my_list)\n",
    "\n",
    "del my_list[2:4]\n",
    "\n",
    "print(my_list)\n",
    "\n",
    "my_list[1]='n'\n",
    "\n",
    "print(my_list)\n",
    "\n",
    "new_list=[\"s\"] + my_list\n",
    "\n",
    "print(new_list)\n",
    "\n",
    "new_list.append(\"g\")\n",
    "\n",
    "print(new_list)"
   ]
  },
  {
   "cell_type": "code",
   "execution_count": 16,
   "metadata": {},
   "outputs": [
    {
     "data": {
      "text/plain": [
       "array([1, 2, 3, 4, 5])"
      ]
     },
     "execution_count": 16,
     "metadata": {},
     "output_type": "execute_result"
    }
   ],
   "source": [
    "import numpy as np\n",
    "\n",
    "a=np.array([1,2,3,4,5])"
   ]
  },
  {
   "cell_type": "code",
   "execution_count": 30,
   "metadata": {},
   "outputs": [
    {
     "name": "stdout",
     "output_type": "stream",
     "text": [
      "['s', 'i', 'n']\n",
      "s\n",
      "[0, 1, 1, 3]\n"
     ]
    },
    {
     "data": {
      "text/plain": [
       "5"
      ]
     },
     "execution_count": 30,
     "metadata": {},
     "output_type": "execute_result"
    }
   ],
   "source": [
    "new_list=[\"s\"] + my_list\n",
    "\n",
    "print(new_list)\n",
    "\n",
    "new_list.insert(1,\"i\")\n",
    "\n",
    "import random\n",
    "\n",
    "letter=random.choice(new_list)\n",
    "\n",
    "print(letter)\n",
    "\n",
    "\n",
    "final_list=[]\n",
    "\n",
    "for i in new_list:\n",
    "    final_list.append(new_list.index(i))\n",
    "\n",
    "\n",
    "print(final_list)\n",
    "\n",
    "sum(final_list)\n",
    "\n"
   ]
  },
  {
   "cell_type": "code",
   "execution_count": 40,
   "metadata": {},
   "outputs": [
    {
     "name": "stdout",
     "output_type": "stream",
     "text": [
      "two\n",
      "one two three three\ttwo\tone\t"
     ]
    }
   ],
   "source": [
    "my_list2=[\"one\", \"two\", \"three\"]\n",
    "print(my_list2[1])\n",
    "\n",
    "for j in my_list2:\n",
    "    print(j, end=' ')\n",
    "    \n",
    "\n"
   ]
  },
  {
   "cell_type": "code",
   "execution_count": 41,
   "metadata": {},
   "outputs": [
    {
     "name": "stdout",
     "output_type": "stream",
     "text": [
      "three\ttwo\tone\t"
     ]
    }
   ],
   "source": [
    "for k in reversed(my_list2):\n",
    "    print(k,end='\\t')"
   ]
  },
  {
   "cell_type": "code",
   "execution_count": 53,
   "metadata": {},
   "outputs": [
    {
     "name": "stdout",
     "output_type": "stream",
     "text": [
      "W\n",
      "Hello \n",
      "Hello World\n"
     ]
    }
   ],
   "source": [
    "my_string=\"Hello World\"\n",
    "\n",
    "print(my_string[6])\n",
    "\n",
    "print(my_string[:6])\n",
    "\n",
    "\n",
    "\n",
    "\n"
   ]
  },
  {
   "cell_type": "code",
   "execution_count": 57,
   "metadata": {},
   "outputs": [
    {
     "name": "stdout",
     "output_type": "stream",
     "text": [
      "['H', 'e', 'l', 'l', 'o', ' ', 'W', 'o', 'r', 'l', 'd']\n",
      "['C', 'e', 'l', 'l', 'o', ' ', 'W', 'o', 'r', 'l', 'd']\n"
     ]
    }
   ],
   "source": [
    "# convert string to list\n",
    "\n",
    "my_string=list(my_string)\n",
    "\n",
    "print(my_string)\n",
    "\n",
    "my_string[0]=\"C\"\n",
    "\n",
    "print(my_string)"
   ]
  },
  {
   "cell_type": "code",
   "execution_count": 59,
   "metadata": {},
   "outputs": [
    {
     "name": "stdout",
     "output_type": "stream",
     "text": [
      "Cello\n"
     ]
    }
   ],
   "source": [
    "#using empty string to join my string and creating Cello \n",
    "\n",
    "new_string=\"\".join(my_string[0:5])\n",
    "\n",
    "print(new_string)"
   ]
  },
  {
   "cell_type": "code",
   "execution_count": 63,
   "metadata": {},
   "outputs": [
    {
     "name": "stdout",
     "output_type": "stream",
     "text": [
      "3.14\n"
     ]
    }
   ],
   "source": [
    "num=3.14235\n",
    "\n",
    "round(num,2)\n",
    "\n",
    "print(round(num,2))"
   ]
  },
  {
   "cell_type": "code",
   "execution_count": 64,
   "metadata": {},
   "outputs": [
    {
     "data": {
      "text/plain": [
       "4.14235"
      ]
     },
     "execution_count": 64,
     "metadata": {},
     "output_type": "execute_result"
    }
   ],
   "source": [
    "## use eval function for math expressions  stored in a string\n",
    "\n",
    "eval('num+1') #thats the reasoon is in ' ' because it need to be a string to be evaluate\n",
    "\n",
    "\n",
    "\n",
    "\n"
   ]
  },
  {
   "cell_type": "code",
   "execution_count": 73,
   "metadata": {},
   "outputs": [
    {
     "data": {
      "text/plain": [
       "2"
      ]
     },
     "execution_count": 73,
     "metadata": {},
     "output_type": "execute_result"
    }
   ],
   "source": [
    "import random\n",
    "\n",
    "random.randint(1,5)"
   ]
  },
  {
   "cell_type": "code",
   "execution_count": 74,
   "metadata": {},
   "outputs": [
    {
     "name": "stdout",
     "output_type": "stream",
     "text": [
      "4\n"
     ]
    }
   ],
   "source": [
    "#user definied function\n",
    "\n",
    "def square(number):\n",
    "    squaredNumber=number**2\n",
    "    return squaredNumber\n",
    "\n",
    "\n",
    "print(square(2))"
   ]
  },
  {
   "cell_type": "code",
   "execution_count": 77,
   "metadata": {},
   "outputs": [
    {
     "name": "stdout",
     "output_type": "stream",
     "text": [
      "4.5\n"
     ]
    }
   ],
   "source": [
    "#python def function to convert pound to KG \n",
    "\n",
    "\n",
    "def convert_to_kg(db):\n",
    "    return 0.45*db\n",
    "    \n",
    "\n",
    "print(convert_to_kg(10))"
   ]
  },
  {
   "cell_type": "code",
   "execution_count": 79,
   "metadata": {},
   "outputs": [
    {
     "name": "stdout",
     "output_type": "stream",
     "text": [
      "37.77777777777778\n"
     ]
    }
   ],
   "source": [
    "# converting temp from farhenheti to celsius !\n",
    "\n",
    "def convert_temp(farh):\n",
    "    return (farh-32)*(5/9)\n",
    "\n",
    "\n",
    "print(convert_temp(100))"
   ]
  },
  {
   "cell_type": "code",
   "execution_count": 87,
   "metadata": {},
   "outputs": [
    {
     "name": "stdout",
     "output_type": "stream",
     "text": [
      "200\n"
     ]
    }
   ],
   "source": [
    "# global and local var\n",
    "\n",
    "x=10\n",
    "\n",
    "def my_fun(y):\n",
    "    y=20 #local var if anything this not make sense as to use it , better would be to remove line y=20 and just leave return x* y\n",
    "    return x *y\n",
    "\n",
    "\n"
   ]
  }
 ],
 "metadata": {
  "kernelspec": {
   "display_name": "Python 3",
   "language": "python",
   "name": "python3"
  },
  "language_info": {
   "codemirror_mode": {
    "name": "ipython",
    "version": 3
   },
   "file_extension": ".py",
   "mimetype": "text/x-python",
   "name": "python",
   "nbconvert_exporter": "python",
   "pygments_lexer": "ipython3",
   "version": "3.11.1"
  },
  "orig_nbformat": 4,
  "vscode": {
   "interpreter": {
    "hash": "6b1f0ee7f03cc37173128c30aee4f80f74e70c4ce73170b026d69128c241c733"
   }
  }
 },
 "nbformat": 4,
 "nbformat_minor": 2
}
